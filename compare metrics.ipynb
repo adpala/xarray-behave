{
  "cells": [
    {
      "cell_type": "code",
      "source": [
        "import xarray_behave as xb\n",
        "import numpy as np\n",
        "old = xb.load('test_metrics_old.zarr',  lazy=True)\n",
        "new = xb.load('test_metrics_new.zarr',  lazy=True)"
      ],
      "outputs": [
        {
          "output_type": "stream",
          "name": "stderr",
          "text": [
            "/Users/jclemens/miniconda3/lib/python3.7/site-packages/xarray/core/merge.py:17: FutureWarning: The Panel class is removed from pandas. Accessing it from the top-level namespace will also be removed in the next version\n",
            "  PANDAS_TYPES = (pd.Series, pd.DataFrame, pd.Panel)\n"
          ]
        }
      ],
      "execution_count": 1,
      "metadata": {}
    },
    {
      "cell_type": "code",
      "source": [
        "old"
      ],
      "outputs": [
        {
          "output_type": "execute_result",
          "execution_count": 2,
          "data": {
            "text/plain": [
              "<xarray.Dataset>\n",
              "Dimensions:            (absolute_features: 16, flies: 18, relative_features: 6, relative_flies: 18, time: 243405)\n",
              "Coordinates:\n",
              "  * absolute_features  (absolute_features) object 'angles' ... 'wing_angle_sum'\n",
              "    nearest_frame      (time) uint64 dask.array<shape=(243405,), chunksize=(30426,)>\n",
              "  * relative_features  (relative_features) object 'distance' ... 'relative_velocity_lateral'\n",
              "  * time               (time) float64 0.0 0.001 0.002 ... 243.4 243.4 243.4\n",
              "Dimensions without coordinates: flies, relative_flies\n",
              "Data variables:\n",
              "    abs_features       (time, flies, absolute_features) float64 dask.array<shape=(243405, 18, 16), chunksize=(30426, 3, 2)>\n",
              "    rel_features       (time, flies, relative_flies, relative_features) float64 dask.array<shape=(243405, 18, 18, 6), chunksize=(30426, 3, 3, 2)>"
            ]
          },
          "metadata": {}
        }
      ],
      "execution_count": 2,
      "metadata": {}
    },
    {
      "cell_type": "code",
      "source": [
        "new"
      ],
      "outputs": [
        {
          "output_type": "execute_result",
          "execution_count": 3,
          "data": {
            "text/plain": [
              "<xarray.Dataset>\n",
              "Dimensions:            (absolute_features: 16, flies: 18, relative_features: 6, relative_flies: 18, time: 243405)\n",
              "Coordinates:\n",
              "  * absolute_features  (absolute_features) object 'angles' ... 'wing_angle_sum'\n",
              "    nearest_frame      (time) uint64 dask.array<shape=(243405,), chunksize=(30426,)>\n",
              "  * relative_features  (relative_features) object 'distance' ... 'relative_velocity_lateral'\n",
              "  * time               (time) float64 0.0 0.001 0.002 ... 243.4 243.4 243.4\n",
              "Dimensions without coordinates: flies, relative_flies\n",
              "Data variables:\n",
              "    abs_features       (time, flies, absolute_features) float64 dask.array<shape=(243405, 18, 16), chunksize=(30426, 3, 2)>\n",
              "    rel_features       (time, flies, relative_flies, relative_features) float32 dask.array<shape=(243405, 18, 18, 6), chunksize=(30426, 3, 5, 2)>"
            ]
          },
          "metadata": {}
        }
      ],
      "execution_count": 3,
      "metadata": {}
    },
    {
      "cell_type": "code",
      "source": [
        "%time print(np.nansum(np.abs(new.abs_features.values - old.abs_features.values)))\n",
        "%time print(np.nansum(np.abs(new.rel_features.values - old.rel_features.values)))"
      ],
      "outputs": [
        {
          "output_type": "stream",
          "name": "stdout",
          "text": [
            "331317.1925971478\n",
            "CPU times: user 3.86 s, sys: 1.09 s, total: 4.95 s\n",
            "Wall time: 2.56 s\n",
            "384.6596521064639\n",
            "CPU times: user 16.7 s, sys: 11.6 s, total: 28.3 s\n",
            "Wall time: 14.9 s\n"
          ]
        }
      ],
      "execution_count": 9,
      "metadata": {}
    },
    {
      "cell_type": "code",
      "source": [],
      "outputs": [],
      "execution_count": null,
      "metadata": {
        "collapsed": false,
        "outputHidden": false,
        "inputHidden": false
      }
    }
  ],
  "metadata": {
    "kernelspec": {
      "name": "python3",
      "language": "python",
      "display_name": "Python 3"
    },
    "language_info": {
      "name": "python",
      "version": "3.7.4",
      "mimetype": "text/x-python",
      "codemirror_mode": {
        "name": "ipython",
        "version": 3
      },
      "pygments_lexer": "ipython3",
      "nbconvert_exporter": "python",
      "file_extension": ".py"
    },
    "kernel_info": {
      "name": "python3"
    },
    "nteract": {
      "version": "0.14.5"
    }
  },
  "nbformat": 4,
  "nbformat_minor": 4
}