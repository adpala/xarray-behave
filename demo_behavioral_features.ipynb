{
  "cells": [
    {
      "cell_type": "code",
      "source": [
        "import numpy as np\n",
        "import matplotlib.pyplot as plt\n",
        "import h5py\n",
        "from videoreader import VideoReader\n",
        "import deepdish as dd\n",
        "from datetime import datetime\n",
        "import time\n",
        "import scipy.interpolate\n",
        "from scipy.io import loadmat\n",
        "from samplestamps import *\n",
        "import xarray as xr\n",
        "import math\n",
        "import xarray_behave as xb"
      ],
      "outputs": [
        {
          "output_type": "stream",
          "name": "stderr",
          "text": [
            "/Users/jclemens/miniconda3/lib/python3.7/site-packages/xarray/core/merge.py:17: FutureWarning: The Panel class is removed from pandas. Accessing it from the top-level namespace will also be removed in the next version\n",
            "  PANDAS_TYPES = (pd.Series, pd.DataFrame, pd.Panel)\n"
          ]
        }
      ],
      "execution_count": 1,
      "metadata": {
        "collapsed": false,
        "inputHidden": false,
        "outputHidden": false
      }
    },
    {
      "cell_type": "code",
      "source": [
        "ds = xb.assemble('localhost-20181120_144618')\n",
        "ds"
      ],
      "outputs": [
        {
          "output_type": "execute_result",
          "execution_count": 2,
          "data": {
            "text/plain": [
              "<xarray.Dataset>\n",
              "Dimensions:              (bodyparts: 3, coords: 2, event_types: 4, flies: 2, poseparts: 12, sampletime: 6035114, time: 603512)\n",
              "Coordinates:\n",
              "  * sampletime           (sampletime) float64 0.0 0.0001 0.0002 ... 603.5 603.5\n",
              "  * time                 (time) float64 0.0 0.001 0.002 ... 603.5 603.5 603.5\n",
              "    nearest_frame        (time) uint64 622 623 623 623 ... 60931 60931 60931\n",
              "  * event_types          (event_types) <U15 'song_pulse_any' ... 'sine'\n",
              "  * bodyparts            (bodyparts) <U6 'head' 'center' 'tail'\n",
              "  * coords               (coords) <U1 'y' 'x'\n",
              "  * poseparts            (poseparts) <U16 'head' 'neck' ... 'right_wing' 'tail'\n",
              "Dimensions without coordinates: flies\n",
              "Data variables:\n",
              "    song                 (sampletime) float32 -0.011 -0.024 ... 0.003 0.004\n",
              "    song_labels          (time) uint8 0 0 0 0 0 0 0 0 0 0 ... 0 0 0 0 0 0 0 0 0\n",
              "    song_events          (time, event_types) bool False False ... False False\n",
              "    body_positions       (time, flies, bodyparts, coords) float64 840.5 ... 307.2\n",
              "    pose_positions       (time, flies, poseparts, coords) float64 -25.55 ... nan\n",
              "    pose_positions_allo  (time, flies, poseparts, coords) float64 834.5 ... nan\n",
              "Attributes:\n",
              "    video_filename:  dat/localhost-20181120_144618/localhost-20181120_144618.mp4\n",
              "    datename:        localhost-20181120_144618\n",
              "    root:            \n",
              "    dat_path:        dat\n",
              "    res_path:        res"
            ]
          },
          "metadata": {}
        }
      ],
      "execution_count": 2,
      "metadata": {
        "collapsed": false,
        "inputHidden": false,
        "outputHidden": false
      }
    },
    {
      "cell_type": "code",
      "source": [
        "from xarray_behave.behavioral_features import assemble_metrics\n",
        "dsm = assemble_metrics(ds)\n",
        "dsm"
      ],
      "outputs": [
        {
          "output_type": "stream",
          "name": "stderr",
          "text": [
            "/Users/jclemens/miniconda3/lib/python3.7/site-packages/numpy/lib/function_base.py:1520: RuntimeWarning: invalid value encountered in greater\n",
            "  _nx.copyto(ddmod, pi, where=(ddmod == -pi) & (dd > 0))\n",
            "/Users/jclemens/miniconda3/lib/python3.7/site-packages/numpy/lib/function_base.py:1522: RuntimeWarning: invalid value encountered in less\n",
            "  _nx.copyto(ph_correct, 0, where=abs(dd) < discont)\n",
            "/Users/jclemens/miniconda3/lib/python3.7/site-packages/numpy/lib/function_base.py:1520: RuntimeWarning: invalid value encountered in greater\n",
            "  _nx.copyto(ddmod, pi, where=(ddmod == -pi) & (dd > 0))\n",
            "/Users/jclemens/miniconda3/lib/python3.7/site-packages/numpy/lib/function_base.py:1522: RuntimeWarning: invalid value encountered in less\n",
            "  _nx.copyto(ph_correct, 0, where=abs(dd) < discont)\n"
          ]
        },
        {
          "output_type": "execute_result",
          "execution_count": 3,
          "data": {
            "text/plain": [
              "<xarray.Dataset>\n",
              "Dimensions:            (absolute_features: 16, flies: 2, relative_features: 6, relative_flies: 2, time: 603512)\n",
              "Coordinates:\n",
              "  * time               (time) float64 0.0 0.001 0.002 ... 603.5 603.5 603.5\n",
              "  * absolute_features  (absolute_features) <U23 'angles' ... 'wing_angle_sum'\n",
              "    nearest_frame      (time) uint64 622 623 623 623 ... 60931 60931 60931 60931\n",
              "  * relative_features  (relative_features) <U25 'distance' ... 'relative_velocity_lateral'\n",
              "Dimensions without coordinates: flies, relative_flies\n",
              "Data variables:\n",
              "    abs_features       (time, flies, absolute_features) float64 -9.394 ... nan\n",
              "    rel_features       (time, flies, relative_flies, relative_features) float64 nan ... nan"
            ]
          },
          "metadata": {}
        }
      ],
      "execution_count": 3,
      "metadata": {
        "collapsed": false,
        "inputHidden": false,
        "outputHidden": false
      }
    },
    {
      "cell_type": "markdown",
      "source": [
        "now plot stuff to illustrate the different metrics"
      ],
      "metadata": {}
    }
  ],
  "metadata": {
    "kernel_info": {
      "name": "python3"
    },
    "kernelspec": {
      "name": "python3",
      "language": "python",
      "display_name": "Python 3"
    },
    "language_info": {
      "name": "python",
      "version": "3.7.4",
      "mimetype": "text/x-python",
      "codemirror_mode": {
        "name": "ipython",
        "version": 3
      },
      "pygments_lexer": "ipython3",
      "nbconvert_exporter": "python",
      "file_extension": ".py"
    },
    "nteract": {
      "version": "0.14.5"
    }
  },
  "nbformat": 4,
  "nbformat_minor": 4
}