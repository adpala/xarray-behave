{
 "cells": [
  {
   "cell_type": "code",
   "execution_count": 1,
   "metadata": {},
   "outputs": [
    {
     "name": "stderr",
     "output_type": "stream",
     "text": [
      "/Users/jclemens/miniconda3/lib/python3.7/site-packages/xarray/core/merge.py:17: FutureWarning: The Panel class is removed from pandas. Accessing it from the top-level namespace will also be removed in the next version\n",
      "  PANDAS_TYPES = (pd.Series, pd.DataFrame, pd.Panel)\n"
     ]
    }
   ],
   "source": [
    "import xarray_behave as xb\n",
    "import numpy as np\n",
    "\n",
    "datename = 'localhost-20190703_164840'\n",
    "root = '/Volumes/ukme04/#Common/backlight'"
   ]
  },
  {
   "cell_type": "code",
   "execution_count": 2,
   "metadata": {},
   "outputs": [],
   "source": [
    "# print(\"ds = xb.assemble(datename, root)\")\n",
    "# %time ds = xb.assemble(datename, root)\n",
    "\n",
    "# print(\"xb.save(root + '/test.zarr', ds)\")\n",
    "# %time xb.save(root + '/test.zarr', ds)\n",
    "\n",
    "# print(\"ds_loaded=xb.load(root + '/test.zarr')\")\n",
    "# %time dataset=xb.load(root + '/test.zarr')\n",
    "\n",
    "# print(\"dsm = xb.assemble_metrics(ds)\")\n",
    "# %time dsm = xb.assemble_metrics(ds)\n",
    "\n",
    "# print(\"xb.save(root + '/test_metrics.zarr', dsm)\")\n",
    "# %time xb.save(root + '/test_metrics.zarr', dsm)\n",
    "\n",
    "# print(\"dsm_loaded=xb.load(root + '/test_metrics.zarr')\")\n",
    "# %time dsm_loaded=xb.load(root + '/test_metrics.zarr')"
   ]
  },
  {
   "cell_type": "markdown",
   "metadata": {},
   "source": [
    "Lazy loads greatly speeds up access to the dataset:"
   ]
  },
  {
   "cell_type": "code",
   "execution_count": 3,
   "metadata": {},
   "outputs": [
    {
     "name": "stdout",
     "output_type": "stream",
     "text": [
      "ds_lazy=xb.load(root + '/test.zarr', lazy=True)\n",
      "CPU times: user 416 ms, sys: 75.4 ms, total: 492 ms\n",
      "Wall time: 1.11 s\n"
     ]
    }
   ],
   "source": [
    "print(\"ds_lazy=xb.load(root + '/test.zarr', lazy=True)\")\n",
    "%time ds_lazy=xb.load(root + '/test.zarr', lazy=True)\n",
    "\n",
    "# print(\"dataset=xb.load(root + '/test.zarr', lazy=False)\")\n",
    "# %time dataset=xb.load(root + '/test.zarr', lazy=False)"
   ]
  },
  {
   "cell_type": "markdown",
   "metadata": {},
   "source": [
    "...but subsequent computations with the data are slower since the values have to be loaded from disk"
   ]
  },
  {
   "cell_type": "code",
   "execution_count": 4,
   "metadata": {},
   "outputs": [],
   "source": [
    "# %time print(np.mean(ds_lazy.pose_positions.sel(poseparts='head').load()))\n",
    "# %time print(np.mean(ds_lazy.pose_positions.sel(poseparts='head').load()))\n",
    "\n",
    "# %time print(np.mean(dataset.pose_positions.sel(poseparts='head').load()))\n",
    "# %time print(np.sum(dataset.pose_positions))"
   ]
  },
  {
   "cell_type": "code",
   "execution_count": 5,
   "metadata": {},
   "outputs": [
    {
     "name": "stdout",
     "output_type": "stream",
     "text": [
      "CPU times: user 3.59 s, sys: 8 s, total: 11.6 s\n",
      "Wall time: 8.65 s\n",
      "CPU times: user 2.79 s, sys: 2.5 s, total: 5.29 s\n",
      "Wall time: 1.9 s\n",
      "CPU times: user 2.8 s, sys: 2.48 s, total: 5.29 s\n",
      "Wall time: 1.91 s\n",
      "CPU times: user 2.8 s, sys: 2.46 s, total: 5.26 s\n",
      "Wall time: 1.91 s\n"
     ]
    },
    {
     "data": {
      "text/plain": [
       "-30643629.111510832"
      ]
     },
     "execution_count": 5,
     "metadata": {},
     "output_type": "execute_result"
    }
   ],
   "source": [
    "\n",
    "%time np.nansum(ds_lazy.pose_positions.values)\n",
    "%time np.nansum(ds_lazy.pose_positions.values)\n",
    "\n",
    "%time np.nansum(ds_lazy.pose_positions.data)\n",
    "%time np.nansum(ds_lazy.pose_positions.data)\n"
   ]
  },
  {
   "cell_type": "code",
   "execution_count": 6,
   "metadata": {},
   "outputs": [],
   "source": [
    "# %time np.nansum(ds_lazy.pose_positions.load())\n",
    "# %time np.nansum(ds_lazy.pose_positions.load())\n",
    "# %time np.nansum(ds_lazy.pose_positions)"
   ]
  }
 ],
 "metadata": {
  "kernelspec": {
   "display_name": "Python 3",
   "language": "python",
   "name": "python3"
  },
  "language_info": {
   "codemirror_mode": {
    "name": "ipython",
    "version": 3
   },
   "file_extension": ".py",
   "mimetype": "text/x-python",
   "name": "python",
   "nbconvert_exporter": "python",
   "pygments_lexer": "ipython3",
   "version": "3.7.4"
  }
 },
 "nbformat": 4,
 "nbformat_minor": 4
}
