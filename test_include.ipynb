{
 "cells": [
  {
   "cell_type": "code",
   "execution_count": 1,
   "metadata": {},
   "outputs": [
    {
     "name": "stderr",
     "output_type": "stream",
     "text": [
      "/Users/jclemens/miniconda3/lib/python3.7/site-packages/xarray/core/merge.py:17: FutureWarning: The Panel class is removed from pandas. Accessing it from the top-level namespace will also be removed in the next version\n",
      "  PANDAS_TYPES = (pd.Series, pd.DataFrame, pd.Panel)\n"
     ]
    }
   ],
   "source": [
    "import xarray_behave as xb\n",
    "import numpy as np\n",
    "\n",
    "datename = 'localhost-20190712_160816'\n",
    "root = '/Volumes/ukme04/#Common/chainingmic'\n",
    "    "
   ]
  },
  {
   "cell_type": "code",
   "execution_count": 8,
   "metadata": {},
   "outputs": [
    {
     "data": {
      "text/plain": [
       "<xarray.Dataset>\n",
       "Dimensions:         (bodyparts: 3, coords: 2, flies: 2, time: 903195)\n",
       "Coordinates:\n",
       "  * time            (time) float64 0.0 0.001 0.002 0.003 ... 903.2 903.2 903.2\n",
       "  * bodyparts       (bodyparts) <U6 'head' 'center' 'tail'\n",
       "    nearest_frame   (time) uint64 654 654 654 654 ... 90908 90908 90908 90908\n",
       "  * coords          (coords) <U1 'y' 'x'\n",
       "Dimensions without coordinates: flies\n",
       "Data variables:\n",
       "    body_positions  (time, flies, bodyparts, coords) float64 99.53 ... 559.4\n",
       "Attributes:\n",
       "    video_filename:  /Volumes/ukme04/#Common/chainingmic/dat/localhost-201907...\n",
       "    datename:        localhost-20190712_160816\n",
       "    root:            /Volumes/ukme04/#Common/chainingmic\n",
       "    dat_path:        dat\n",
       "    res_path:        res"
      ]
     },
     "execution_count": 8,
     "metadata": {},
     "output_type": "execute_result"
    }
   ],
   "source": [
    "ds = xb.assemble(datename, root, include_song=False)\n",
    "ds"
   ]
  },
  {
   "cell_type": "code",
   "execution_count": 6,
   "metadata": {},
   "outputs": [
    {
     "data": {
      "text/plain": [
       "<xarray.Dataset>\n",
       "Dimensions:        (event_types: 5, sampletime: 9179817, time: 917982)\n",
       "Coordinates:\n",
       "  * sampletime     (sampletime) float64 0.0 0.0001 0.0002 ... 918.0 918.0 918.0\n",
       "  * time           (time) float64 0.0 0.001 0.002 0.003 ... 918.0 918.0 918.0\n",
       "    nearest_frame  (time) uint64 654 654 654 654 655 ... 92379 92379 92379 92379\n",
       "  * event_types    (event_types) <U17 'aggression_manual' ... 'sine'\n",
       "Data variables:\n",
       "    song           (sampletime) float32 -0.003 -0.012 -0.02 ... -0.007 -0.004\n",
       "    song_labels    (time) uint8 0 0 0 0 0 0 0 0 0 0 0 ... 0 0 0 0 0 0 0 0 0 0 0\n",
       "    song_events    (time, event_types) bool False False False ... False False\n",
       "Attributes:\n",
       "    video_filename:  /Volumes/ukme04/#Common/chainingmic/dat/localhost-201907...\n",
       "    datename:        localhost-20190712_160816\n",
       "    root:            /Volumes/ukme04/#Common/chainingmic\n",
       "    dat_path:        dat\n",
       "    res_path:        res"
      ]
     },
     "execution_count": 6,
     "metadata": {},
     "output_type": "execute_result"
    }
   ],
   "source": [
    "ds = xb.assemble(datename, root, include_tracks=False)\n",
    "ds"
   ]
  },
  {
   "cell_type": "code",
   "execution_count": 7,
   "metadata": {},
   "outputs": [
    {
     "data": {
      "text/plain": [
       "<xarray.Dataset>\n",
       "Dimensions:  ()\n",
       "Data variables:\n",
       "    *empty*\n",
       "Attributes:\n",
       "    video_filename:  /Volumes/ukme04/#Common/chainingmic/dat/localhost-201907...\n",
       "    datename:        localhost-20190712_160816\n",
       "    root:            /Volumes/ukme04/#Common/chainingmic\n",
       "    dat_path:        dat\n",
       "    res_path:        res"
      ]
     },
     "execution_count": 7,
     "metadata": {},
     "output_type": "execute_result"
    }
   ],
   "source": [
    "ds = xb.assemble(datename, root, include_song=False, include_tracks=False)\n",
    "ds"
   ]
  },
  {
   "cell_type": "code",
   "execution_count": null,
   "metadata": {},
   "outputs": [],
   "source": []
  }
 ],
 "metadata": {
  "kernelspec": {
   "display_name": "Python 3",
   "language": "python",
   "name": "python3"
  },
  "language_info": {
   "codemirror_mode": {
    "name": "ipython",
    "version": 3
   },
   "file_extension": ".py",
   "mimetype": "text/x-python",
   "name": "python",
   "nbconvert_exporter": "python",
   "pygments_lexer": "ipython3",
   "version": "3.7.4"
  }
 },
 "nbformat": 4,
 "nbformat_minor": 4
}
